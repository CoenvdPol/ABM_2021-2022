{
 "cells": [
  {
   "cell_type": "code",
   "execution_count": null,
   "metadata": {},
   "outputs": [],
   "source": [
    "%matplotlib inline\n",
    "import pandas as pd\n",
    "import numpy as np\n",
    "import seaborn as sns\n",
    "import matplotlib.pyplot as plt\n",
    "from mpl_toolkits.mplot3d import Axes3D"
   ]
  },
  {
   "cell_type": "code",
   "execution_count": null,
   "metadata": {},
   "outputs": [],
   "source": [
    "baseline_data = pd.read_csv('Combined Final_withexp BASELINE-table.csv' , skiprows=6)\n",
    "experiment_data = pd.read_csv('Combined Final_withexp Experiment1-table.csv' , skiprows=6)"
   ]
  },
  {
   "cell_type": "code",
   "execution_count": null,
   "metadata": {},
   "outputs": [],
   "source": [
    "baseline_data.head(3)"
   ]
  },
  {
   "cell_type": "code",
   "execution_count": null,
   "metadata": {},
   "outputs": [],
   "source": [
    "baseline_data.info()"
   ]
  },
  {
   "cell_type": "code",
   "execution_count": null,
   "metadata": {},
   "outputs": [],
   "source": [
    "baseline_data.rename(columns={'[run number]':'run_number','[step]':'tick' , 'mean [bin-satisfaction] of households': 'avg bin-satisfaction'}, inplace=True)\n",
    "experiment_data.rename(columns={'[run number]':'run_number','[step]':'tick' , 'mean [bin-satisfaction] of households': 'avg bin-satisfaction'}, inplace=True)"
   ]
  },
  {
   "cell_type": "code",
   "execution_count": null,
   "metadata": {},
   "outputs": [],
   "source": [
    "experiment_data = experiment_data[experiment_data.tick != 0]"
   ]
  },
  {
   "cell_type": "code",
   "execution_count": null,
   "metadata": {},
   "outputs": [],
   "source": []
  },
  {
   "cell_type": "code",
   "execution_count": null,
   "metadata": {},
   "outputs": [],
   "source": [
    "#maximum average waste production ratio of the households\n",
    "baseline_data['average-r'].max()"
   ]
  },
  {
   "cell_type": "code",
   "execution_count": null,
   "metadata": {},
   "outputs": [],
   "source": [
    "#minimum average waste production ratio of the households\n",
    "baseline_data['average-r'].min()"
   ]
  },
  {
   "cell_type": "code",
   "execution_count": null,
   "metadata": {},
   "outputs": [],
   "source": [
    "baseline_data.plot.scatter(x='tick',y='avg bin-satisfaction',c='run_number',colormap='viridis',figsize=(20,10))"
   ]
  },
  {
   "cell_type": "code",
   "execution_count": null,
   "metadata": {},
   "outputs": [],
   "source": [
    "threedp_plot = plt.figure(figsize=(10,10)).gca(projection='3d')\n",
    "threedp_plot.scatter(baseline_data['general-regionbin-size'],baseline_data['nmbr-weeks-pickup-gen'], baseline_data['avg bin-satisfaction'])\n",
    "threedp_plot.view_init(30,140)\n",
    "threedp_plot.set_xlabel('general-regionbin-size')\n",
    "threedp_plot.set_ylabel('nmbr-weeks-pickup-gen')\n",
    "threedp_plot.set_zlabel('avg bin-satisfaction')"
   ]
  },
  {
   "cell_type": "code",
   "execution_count": null,
   "metadata": {},
   "outputs": [],
   "source": [
    "expirement_data.plot.scatter(x='tick',y='avg bin-satisfaction',c='run_number',colormap='viridis',figsize=(20,10))"
   ]
  },
  {
   "cell_type": "code",
   "execution_count": null,
   "metadata": {},
   "outputs": [],
   "source": [
    "exp_3d_plot = plt.figure(figsize=(10,10)).gca(projection='3d')\n",
    "exp_3d_plot.scatter(experiment_data['general-regionbin-size'],experiment_data['nmbr-weeks-pickup-gen'], experiment_data['recycle-ratio'], c=experiment_data['recycle-ratio'], cmap='viridis')\n",
    "exp_3d_plot.view_init(30,140)\n",
    "exp_3d_plot.set_xlabel('general-regionbin-size')\n",
    "exp_3d_plot.set_ylabel('nmbr-weeks-pickup-gen')\n",
    "exp_3d_plot.set_zlabel('recycle-ratio')"
   ]
  },
  {
   "cell_type": "code",
   "execution_count": null,
   "metadata": {},
   "outputs": [],
   "source": []
  }
 ],
 "metadata": {
  "kernelspec": {
   "display_name": "Python 3",
   "language": "python",
   "name": "python3"
  },
  "language_info": {
   "codemirror_mode": {
    "name": "ipython",
    "version": 3
   },
   "file_extension": ".py",
   "mimetype": "text/x-python",
   "name": "python",
   "nbconvert_exporter": "python",
   "pygments_lexer": "ipython3",
   "version": "3.8.5"
  }
 },
 "nbformat": 4,
 "nbformat_minor": 4
}
